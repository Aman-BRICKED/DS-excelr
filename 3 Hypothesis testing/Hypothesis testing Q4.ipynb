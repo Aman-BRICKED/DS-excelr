{
 "cells": [
  {
   "cell_type": "code",
   "execution_count": null,
   "id": "ef50328a",
   "metadata": {},
   "outputs": [],
   "source": [
    "#TeleCall uses 4 centers around the globe to process customer order forms.\n",
    "#They audit a certain %  of the customer order forms. \n",
    "#Any error in order form renders it defective and has to be reworked before processing.\n",
    "#The manager wants to check whether the defective %  varies by centre.\n",
    "#Please analyze the data at 5% significance level and help the manager draw appropriate inferences"
   ]
  },
  {
   "cell_type": "code",
   "execution_count": null,
   "id": "828f10b9",
   "metadata": {},
   "outputs": [],
   "source": [
    "#steps :\n",
    "#H0 : variable are independent i.e defective % does not varies by centre.\n",
    "#H1 : not all are equal i.e defective % varies by centre.\n",
    "# use chi square test to determine."
   ]
  },
  {
   "cell_type": "code",
   "execution_count": 1,
   "id": "ba948daf",
   "metadata": {},
   "outputs": [],
   "source": [
    "import numpy as np\n",
    "import pandas as pd\n",
    "import scipy.stats as stats"
   ]
  },
  {
   "cell_type": "code",
   "execution_count": 3,
   "id": "86e0648b",
   "metadata": {},
   "outputs": [
    {
     "name": "stdout",
     "output_type": "stream",
     "text": [
      "    Phillippines   Indonesia       Malta       India\n",
      "0     Error Free  Error Free   Defective  Error Free\n",
      "1     Error Free  Error Free  Error Free   Defective\n",
      "2     Error Free   Defective   Defective  Error Free\n",
      "3     Error Free  Error Free  Error Free  Error Free\n",
      "4     Error Free  Error Free   Defective  Error Free\n",
      "..           ...         ...         ...         ...\n",
      "295   Error Free  Error Free  Error Free  Error Free\n",
      "296   Error Free  Error Free  Error Free  Error Free\n",
      "297   Error Free  Error Free   Defective  Error Free\n",
      "298   Error Free  Error Free  Error Free  Error Free\n",
      "299   Error Free   Defective   Defective  Error Free\n",
      "\n",
      "[300 rows x 4 columns]\n"
     ]
    }
   ],
   "source": [
    "Q4 = pd.read_csv('CostomerOrderForm.csv')\n",
    "print(Q4)"
   ]
  },
  {
   "cell_type": "code",
   "execution_count": 6,
   "id": "13e69d84",
   "metadata": {},
   "outputs": [
    {
     "name": "stdout",
     "output_type": "stream",
     "text": [
      "[271, 267, 269, 280]\n",
      "[29, 33, 31, 20]\n"
     ]
    }
   ],
   "source": [
    "# we nedd to get the count for each columns for error free and defective.\n",
    "errorfree = []\n",
    "defective = []\n",
    "\n",
    "for i in range(0,4):\n",
    "    a,b = Q4.iloc[:,i].value_counts()\n",
    "    errorfree.append(a) \n",
    "    defective.append(b)\n",
    "print(errorfree)\n",
    "print(defective)"
   ]
  },
  {
   "cell_type": "code",
   "execution_count": 8,
   "id": "6ae367aa",
   "metadata": {},
   "outputs": [
    {
     "name": "stdout",
     "output_type": "stream",
     "text": [
      "[[271 267 269 280]\n",
      " [ 29  33  31  20]]\n"
     ]
    }
   ],
   "source": [
    "#converting into array.\n",
    "ar = np.array([errorfree, defective])\n",
    "print(ar)"
   ]
  },
  {
   "cell_type": "code",
   "execution_count": 9,
   "id": "7844ce53",
   "metadata": {},
   "outputs": [
    {
     "data": {
      "text/plain": [
       "(3.858960685820355,\n",
       " 0.2771020991233135,\n",
       " 3,\n",
       " array([[271.75, 271.75, 271.75, 271.75],\n",
       "        [ 28.25,  28.25,  28.25,  28.25]]))"
      ]
     },
     "execution_count": 9,
     "metadata": {},
     "output_type": "execute_result"
    }
   ],
   "source": [
    "#carrying out chi square test.\n",
    "stats.chi2_contingency(ar)\n",
    "#p value 0.277 is greater than 0.05 alpha. so we cannot reject null hypothesis. \n",
    "#i.e. defective % do not vary by centers."
   ]
  },
  {
   "cell_type": "code",
   "execution_count": null,
   "id": "6fe5ba7c",
   "metadata": {},
   "outputs": [],
   "source": []
  },
  {
   "cell_type": "code",
   "execution_count": null,
   "id": "b30f080c",
   "metadata": {},
   "outputs": [],
   "source": []
  }
 ],
 "metadata": {
  "kernelspec": {
   "display_name": "Python 3",
   "language": "python",
   "name": "python3"
  },
  "language_info": {
   "codemirror_mode": {
    "name": "ipython",
    "version": 3
   },
   "file_extension": ".py",
   "mimetype": "text/x-python",
   "name": "python",
   "nbconvert_exporter": "python",
   "pygments_lexer": "ipython3",
   "version": "3.8.8"
  }
 },
 "nbformat": 4,
 "nbformat_minor": 5
}
