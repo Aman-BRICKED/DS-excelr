{
 "cells": [
  {
   "cell_type": "markdown",
   "id": "4744a1e1",
   "metadata": {},
   "source": [
    "# \n",
    "#Sales of products in four different regions is tabulated for males and females. Find if male-female buyer rations are similar across regions.\n",
    "\n",
    "                      East         West         North            South\n",
    "|________________|_____________|_____________|______________|______________|\n",
    "|     Males      |     50      |     142     |     131      |     70       |\n",
    "|     Females    |     550     |     351     |     480      |     350      |\n"
   ]
  },
  {
   "cell_type": "code",
   "execution_count": null,
   "id": "219a3086",
   "metadata": {},
   "outputs": [],
   "source": [
    "#steps\n",
    "#H0 : all prop. are similar\n",
    "#H1 :at least one is different\n",
    "#we will use chi square test."
   ]
  },
  {
   "cell_type": "code",
   "execution_count": 1,
   "id": "8a4afdaa",
   "metadata": {},
   "outputs": [],
   "source": [
    "import numpy as np\n",
    "import pandas as pd\n",
    "import scipy.stats as stats"
   ]
  },
  {
   "cell_type": "code",
   "execution_count": 3,
   "id": "1adf9654",
   "metadata": {},
   "outputs": [
    {
     "name": "stdout",
     "output_type": "stream",
     "text": [
      "  Observed Values  East  West  North  South\n",
      "0           Males    50   142    131     70\n",
      "1         Females   435  1523   1356    750\n"
     ]
    }
   ],
   "source": [
    "Q3 = pd.read_csv('BuyerRatio.csv')\n",
    "print(Q3)"
   ]
  },
  {
   "cell_type": "code",
   "execution_count": 9,
   "id": "0f609657",
   "metadata": {},
   "outputs": [
    {
     "name": "stdout",
     "output_type": "stream",
     "text": [
      "[[  50  142  131   70]\n",
      " [ 435 1523 1356  750]]\n"
     ]
    }
   ],
   "source": [
    "# converting in to a array\n",
    "ar = np.array([[50,142,131,70],[435,1523,1356,750]])\n",
    "print(ar)"
   ]
  },
  {
   "cell_type": "code",
   "execution_count": 10,
   "id": "cd3261ab",
   "metadata": {},
   "outputs": [
    {
     "data": {
      "text/plain": [
       "(1.595945538661058,\n",
       " 0.6603094907091882,\n",
       " 3,\n",
       " array([[  42.76531299,  146.81287862,  131.11756787,   72.30424052],\n",
       "        [ 442.23468701, 1518.18712138, 1355.88243213,  747.69575948]]))"
      ]
     },
     "execution_count": 10,
     "metadata": {},
     "output_type": "execute_result"
    }
   ],
   "source": [
    "#Chi square test\n",
    "stats.chi2_contingency(ar)"
   ]
  },
  {
   "cell_type": "code",
   "execution_count": null,
   "id": "82c94194",
   "metadata": {},
   "outputs": [],
   "source": [
    "#p value 0.660>0.05, thus we cannot reject null hypothesis. i.e all the proportions are equal\n",
    "#male - female buyer rations are similar across the regions."
   ]
  }
 ],
 "metadata": {
  "kernelspec": {
   "display_name": "Python 3",
   "language": "python",
   "name": "python3"
  },
  "language_info": {
   "codemirror_mode": {
    "name": "ipython",
    "version": 3
   },
   "file_extension": ".py",
   "mimetype": "text/x-python",
   "name": "python",
   "nbconvert_exporter": "python",
   "pygments_lexer": "ipython3",
   "version": "3.8.8"
  }
 },
 "nbformat": 4,
 "nbformat_minor": 5
}
